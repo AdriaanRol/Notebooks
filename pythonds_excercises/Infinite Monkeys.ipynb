{
 "cells": [
  {
   "cell_type": "markdown",
   "metadata": {},
   "source": [
    "# Excercixe 1.12\n",
    "Self Check\n",
    "\n",
    "Here’s a self check that really covers everything so far. You may have heard of the infinite monkey theorem? The theorem states that a monkey hitting keys at random on a typewriter keyboard for an infinite amount of time will almost surely type a given text, such as the complete works of William Shakespeare. Well, suppose we replace a monkey with a Python function. How long do you think it would take for a Python function to generate just one sentence of Shakespeare? The sentence we’ll shoot for is: “methinks it is like a weasel”\n",
    "\n",
    "You’re not going to want to run this one in the browser, so fire up your favorite Python IDE. The way we’ll simulate this is to write a function that generates a string that is 28 characters long by choosing random letters from the 26 letters in the alphabet plus the space. We’ll write another function that will score each generated string by comparing the randomly generated string to the goal.\n",
    "\n",
    "A third function will repeatedly call generate and score, then if 100% of the letters are correct we are done. If the letters are not correct then we will generate a whole new string.To make it easier to follow your program’s progress this third function should print out the best string generated so far and its score every 1000 tries."
   ]
  },
  {
   "cell_type": "code",
   "execution_count": 183,
   "metadata": {},
   "outputs": [],
   "source": [
    "target_sentence = 'methinks it is like a weasel'"
   ]
  },
  {
   "cell_type": "code",
   "execution_count": 2,
   "metadata": {},
   "outputs": [],
   "source": [
    "import numpy as np "
   ]
  },
  {
   "cell_type": "code",
   "execution_count": 7,
   "metadata": {},
   "outputs": [
    {
     "data": {
      "text/plain": [
       "8"
      ]
     },
     "execution_count": 7,
     "metadata": {},
     "output_type": "execute_result"
    }
   ],
   "source": [
    "np.random.randint(0, 26,)"
   ]
  },
  {
   "cell_type": "code",
   "execution_count": 8,
   "metadata": {},
   "outputs": [
    {
     "data": {
      "text/plain": [
       "'5'"
      ]
     },
     "execution_count": 8,
     "metadata": {},
     "output_type": "execute_result"
    }
   ],
   "source": [
    "str(5)"
   ]
  },
  {
   "cell_type": "code",
   "execution_count": 19,
   "metadata": {},
   "outputs": [],
   "source": [
    "import random\n",
    "import string\n",
    "\n",
    "def randomString(stringLength=10):\n",
    "    \"\"\"Generate a random string of fixed length \"\"\"\n",
    "    letters = string.ascii_lowercase\n",
    "    # Add space to the allowed characters\n",
    "    letters+=' '\n",
    "    return ''.join(random.choice(letters) for i in range(stringLength))\n",
    "\n",
    "\n"
   ]
  },
  {
   "cell_type": "code",
   "execution_count": 62,
   "metadata": {},
   "outputs": [],
   "source": [
    "def score_str(input_str, target_str):\n",
    "    if not len(input_str) == len(target_str):\n",
    "        raise ValueError()\n",
    "    score = 0 \n",
    "    for c, t in zip(input_str, target_str):\n",
    "        if c==t:\n",
    "            score+=1\n",
    "    score = score/len(target_str)\n",
    "    return score\n",
    "\n",
    "def smart_score_str(input_str, target_str):\n",
    "    if not len(input_str) == len(target_str):\n",
    "        raise ValueError()\n",
    "    score = 0 \n",
    "    correct_indices = []\n",
    "    for i, (c, t) in enumerate(zip(input_str, target_str)):\n",
    "        if c==t:\n",
    "            correct_indices.append(i) \n",
    "            score+=1\n",
    "    score = score/len(target_str)\n",
    "    return score, correct_indices\n"
   ]
  },
  {
   "cell_type": "code",
   "execution_count": 63,
   "metadata": {},
   "outputs": [],
   "source": [
    "letters = string.ascii_lowercase\n"
   ]
  },
  {
   "cell_type": "code",
   "execution_count": 64,
   "metadata": {},
   "outputs": [
    {
     "data": {
      "text/plain": [
       "'methinks it is like a weasel'"
      ]
     },
     "execution_count": 64,
     "metadata": {},
     "output_type": "execute_result"
    }
   ],
   "source": [
    "target_sentence"
   ]
  },
  {
   "cell_type": "code",
   "execution_count": 97,
   "metadata": {},
   "outputs": [],
   "source": [
    "random_str = randomString(len(target_sentence))"
   ]
  },
  {
   "cell_type": "code",
   "execution_count": 99,
   "metadata": {},
   "outputs": [],
   "source": [
    "score, correct_indices = smart_score_str(random_str, target_sentence)\n"
   ]
  },
  {
   "cell_type": "code",
   "execution_count": 102,
   "metadata": {},
   "outputs": [
    {
     "ename": "TypeError",
     "evalue": "'str' object does not support item assignment",
     "output_type": "error",
     "traceback": [
      "\u001b[0;31m---------------------------------------------------------------------------\u001b[0m",
      "\u001b[0;31mTypeError\u001b[0m                                 Traceback (most recent call last)",
      "\u001b[0;32m<ipython-input-102-ef36506462cc>\u001b[0m in \u001b[0;36m<module>\u001b[0;34m\u001b[0m\n\u001b[1;32m      1\u001b[0m \u001b[0mnew_random_str\u001b[0m \u001b[0;34m=\u001b[0m \u001b[0mrandomString\u001b[0m\u001b[0;34m(\u001b[0m\u001b[0mlen\u001b[0m\u001b[0;34m(\u001b[0m\u001b[0mtarget_sentence\u001b[0m\u001b[0;34m)\u001b[0m\u001b[0;34m)\u001b[0m\u001b[0;34m\u001b[0m\u001b[0;34m\u001b[0m\u001b[0m\n\u001b[1;32m      2\u001b[0m \u001b[0;32mfor\u001b[0m \u001b[0mc\u001b[0m \u001b[0;32min\u001b[0m \u001b[0mcorrect_indices\u001b[0m\u001b[0;34m:\u001b[0m\u001b[0;34m\u001b[0m\u001b[0;34m\u001b[0m\u001b[0m\n\u001b[0;32m----> 3\u001b[0;31m     \u001b[0mnew_random_str\u001b[0m\u001b[0;34m[\u001b[0m\u001b[0mc\u001b[0m\u001b[0;34m]\u001b[0m \u001b[0;34m=\u001b[0m \u001b[0mrandom_str\u001b[0m\u001b[0;34m[\u001b[0m\u001b[0mc\u001b[0m\u001b[0;34m]\u001b[0m\u001b[0;34m\u001b[0m\u001b[0;34m\u001b[0m\u001b[0m\n\u001b[0m",
      "\u001b[0;31mTypeError\u001b[0m: 'str' object does not support item assignment"
     ]
    }
   ],
   "source": [
    "new_random_str = randomString(len(target_sentence))\n",
    "for c in correct_indices:\n",
    "    new_random_str[c] = random_str[c]"
   ]
  },
  {
   "cell_type": "code",
   "execution_count": 104,
   "metadata": {},
   "outputs": [],
   "source": [
    "def monkeys():\n",
    "    i = 0 \n",
    "    score = 0 \n",
    "    best_score = 0 \n",
    "    while best_score<1: \n",
    "        i+=1\n",
    "        random_str = randomString(len(target_sentence))\n",
    "        score = score_str(random_str, target_sentence)\n",
    "        if score>best_score: \n",
    "            best_str = random_str\n",
    "            best_score = score \n",
    "        if i%1000 == 0: \n",
    "            print(\"{}\\t score: {:.2f} \\t {}\".format(i, best_score, best_str), end='\\r')\n",
    "# monkeys()"
   ]
  },
  {
   "cell_type": "code",
   "execution_count": 128,
   "metadata": {},
   "outputs": [],
   "source": [
    "def update_str(new_str, old_str, correct_indices):\n",
    "    \"\"\"\n",
    "    Update new_str with characters from old_str for correct indices\n",
    "    \"\"\"\n",
    "    return_str =''\n",
    "    \n",
    "    for i in range(len(old_str)):\n",
    "        if i in correct_indices: \n",
    "            return_str += old_str[i]\n",
    "        else: \n",
    "            return_str += new_str[i]\n",
    "    return return_str"
   ]
  },
  {
   "cell_type": "code",
   "execution_count": 152,
   "metadata": {},
   "outputs": [
    {
     "name": "stdout",
     "output_type": "stream",
     "text": [
      "correct\n",
      "correct\n",
      "abcdefg\n",
      "       \n",
      "ab de g\n"
     ]
    }
   ],
   "source": [
    "def test_update_str():\n",
    "    new = 'abcdefg'\n",
    "    old = '       '\n",
    "    correct_indices = [2]\n",
    "    new_str = update_str(new, old, correct_indices)\n",
    "    if new_str == 'ab defg':\n",
    "        print('correct')\n",
    "        \n",
    "    new = 'abcdefg'\n",
    "    old = '       '\n",
    "    correct_indices = [2, 5, 8]\n",
    "    new_str = update_str(new, old, correct_indices)\n",
    "    if new_str == 'ab de g':\n",
    "        print('correct')\n",
    "    print(new)\n",
    "    print(old)\n",
    "    print(new_str)\n",
    "    \n",
    "test_update_str()"
   ]
  },
  {
   "cell_type": "code",
   "execution_count": 158,
   "metadata": {},
   "outputs": [
    {
     "name": "stdout",
     "output_type": "stream",
     "text": [
      "0.42857142857142855 [0, 1, 2]\n"
     ]
    }
   ],
   "source": [
    "def test_smart_score():\n",
    "    new = 'abcdefg'\n",
    "    old = 'abc    '\n",
    "    score, indices = smart_score_str(new, old)\n",
    "    print(score, indices)\n",
    "    \n",
    "test_smart_score()"
   ]
  },
  {
   "cell_type": "code",
   "execution_count": 150,
   "metadata": {},
   "outputs": [
    {
     "name": "stdout",
     "output_type": "stream",
     "text": [
      "anrbqnkyqazek vosvjimelxyc w\n",
      "abcdefghijklmnopqrstuvwxyz\n",
      "[3, 4, 5, 6]\n",
      "anrdefgyqazek vosvjimelxyc\n"
     ]
    }
   ],
   "source": [
    "random_str\n",
    "score, correct_indices = smart_score_str(random_str, target_sentence)\n",
    "\n",
    "old_random_string = string.ascii_lowercase[:len(random_str)]\n",
    "\n",
    "correct_indices=[3, 4, 5, 6]\n",
    "updated_str = update_str(random_str, old_str = old_random_string, correct_indices=correct_indices)\n",
    "print(random_str)\n",
    "print(old_random_string)\n",
    "print(correct_indices)\n",
    "print(updated_str)\n"
   ]
  },
  {
   "cell_type": "code",
   "execution_count": 188,
   "metadata": {},
   "outputs": [
    {
     "data": {
      "text/plain": [
       "'methinks it is like a weasel'"
      ]
     },
     "execution_count": 188,
     "metadata": {},
     "output_type": "execute_result"
    }
   ],
   "source": [
    "best_str\n",
    "target_sentence"
   ]
  },
  {
   "cell_type": "code",
   "execution_count": 198,
   "metadata": {},
   "outputs": [
    {
     "name": "stdout",
     "output_type": "stream",
     "text": [
      "5\t score: 0.25 \t cudhimk hkycxwoxjmpwf jedvel\n",
      "10\t score: 0.39 \t pgjhiykhsend sxpikegg eeyhel\n",
      "15\t score: 0.46 \t nuthihkmi rliszbikeyi oepwel\n",
      "20\t score: 0.57 \t gtthiskduikbistaikexa weftel\n",
      "25\t score: 0.57 \t acthifkyiiwjisrkikeoa we bel\n",
      "30\t score: 0.64 \t  gthijko itiisyfikera weuyel\n",
      "35\t score: 0.68 \t eethilkx ittismciketa wefiel\n",
      "40\t score: 0.71 \t fethioku itaisilikeva weplel\n",
      "45\t score: 0.75 \t cethifks itjisnlikexa wepgel\n",
      "50\t score: 0.79 \t oethivks itpisrlikepa wensel\n",
      "55\t score: 0.82 \t gethitks ituis likena wehsel\n",
      "60\t score: 0.82 \t wethidks itsis likeea wexsel\n",
      "65\t score: 0.86 \t yethinks itgis likena weisel\n",
      "70\t score: 0.89 \t  ethinks itlis likefa weasel\n",
      "75\t score: 0.93 \t methinks itfis likesa weasel\n",
      "80\t score: 0.96 \t methinks it is likeza weasel\n",
      "85\t score: 0.96 \t methinks it is likela weasel\n",
      "90\t score: 0.96 \t methinks it is likeua weasel\n",
      "95\t score: 0.96 \t methinks it is likepa weasel\n",
      "100\t score: 0.96 \t methinks it is likeya weasel\n",
      "105\t score: 0.96 \t methinks it is likena weasel\n",
      "110\t score: 0.96 \t methinks it is likeja weasel\n",
      "115\t score: 0.96 \t methinks it is likeqa weasel\n",
      "120\t score: 0.96 \t methinks it is likeea weasel\n",
      "125\t score: 0.96 \t methinks it is likeua weasel\n",
      "130\t score: 0.96 \t methinks it is likefa weasel\n",
      "135\t score: 0.96 \t methinks it is likena weasel\n",
      "140\t score: 0.96 \t methinks it is likeva weasel\n",
      "145\t score: 0.96 \t methinks it is likeya weasel\n",
      "149\t score: 1.00 \t methinks it is like a weasel\r"
     ]
    }
   ],
   "source": [
    "\n",
    "def smart_monkeys():\n",
    "    i = 0 \n",
    "    score = 0 \n",
    "    best_str = ' '*len(target_sentence)\n",
    "    best_score = 0 \n",
    "    correct_indices = []\n",
    "    while best_score<1: \n",
    "        i+=1\n",
    "        new_rnd = randomString(len(target_sentence))\n",
    "        best_str = update_str(new_rnd, old_str =best_str, correct_indices=correct_indices)\n",
    "        score, correct_indices = smart_score_str(best_str, target_sentence)\n",
    "        \n",
    "        if i%5 == 0: \n",
    "            print(\"{}\\t score: {:.2f} \\t {}\".format(i, score, best_str), end='\\n')\n",
    "        if score == 1: \n",
    "            print(\"{}\\t score: {:.2f} \\t {}\".format(i, score, best_str), end='\\r')\n",
    "            break\n",
    "\n",
    "\n",
    "smart_monkeys()"
   ]
  },
  {
   "cell_type": "code",
   "execution_count": null,
   "metadata": {},
   "outputs": [],
   "source": []
  },
  {
   "cell_type": "code",
   "execution_count": null,
   "metadata": {},
   "outputs": [],
   "source": [
    "new_random_str = ''\n",
    "for i, c in enumerate(random_str):\n",
    "    if i in correct_indices:\n",
    "        new_random_str+= c\n",
    "    "
   ]
  },
  {
   "cell_type": "code",
   "execution_count": 45,
   "metadata": {},
   "outputs": [
    {
     "data": {
      "text/plain": [
       "'dgrxtovgpucpflybueblealatuvk'"
      ]
     },
     "execution_count": 45,
     "metadata": {},
     "output_type": "execute_result"
    }
   ],
   "source": [
    "\n",
    "randomString(len(target_sentence))"
   ]
  },
  {
   "cell_type": "code",
   "execution_count": null,
   "metadata": {},
   "outputs": [],
   "source": []
  }
 ],
 "metadata": {
  "kernelspec": {
   "display_name": "Python 3",
   "language": "python",
   "name": "python3"
  },
  "language_info": {
   "codemirror_mode": {
    "name": "ipython",
    "version": 3
   },
   "file_extension": ".py",
   "mimetype": "text/x-python",
   "name": "python",
   "nbconvert_exporter": "python",
   "pygments_lexer": "ipython3",
   "version": "3.7.5"
  }
 },
 "nbformat": 4,
 "nbformat_minor": 4
}
