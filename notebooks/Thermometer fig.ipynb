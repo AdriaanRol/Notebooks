{
 "cells": [
  {
   "cell_type": "code",
   "execution_count": 29,
   "metadata": {},
   "outputs": [],
   "source": [
    "import cmocean"
   ]
  },
  {
   "cell_type": "code",
   "execution_count": 84,
   "metadata": {},
   "outputs": [],
   "source": [
    "def celcius_to_fahrenheit(T_c):\n",
    "    return (T_c*9/5)+32\n",
    "def fahreneheit_to_celcius(T_f):\n",
    "    return (T_f-32)*5/9"
   ]
  },
  {
   "cell_type": "code",
   "execution_count": 31,
   "metadata": {},
   "outputs": [],
   "source": [
    "%matplotlib inline"
   ]
  },
  {
   "cell_type": "code",
   "execution_count": 117,
   "metadata": {},
   "outputs": [],
   "source": [
    "cax.get_ylim()\n",
    "from pycqed.analysis.plotting_tools import set_axeslabel_color\n"
   ]
  },
  {
   "cell_type": "code",
   "execution_count": 128,
   "metadata": {},
   "outputs": [
    {
     "data": {
      "image/png": "[encoded data removed]",
      "text/plain": [
       "<Figure size 432x288 with 3 Axes>"
      ]
     },
     "metadata": {},
     "output_type": "display_data"
    }
   ],
   "source": [
    "import matplotlib.colors as mcolors\n",
    "import matplotlib.pyplot as plt\n",
    "import numpy as np\n",
    "\n",
    "text_color = 'black'\n",
    "text_color = 'white'\n",
    "\n",
    "x = np.linspace(-1,2.7)\n",
    "X,Y = np.meshgrid(x,x)\n",
    "Z = np.exp(-X**2-Y**2)*.9+0.1\n",
    "\n",
    "fig, (ax, cax) = plt.subplots(ncols=2, gridspec_kw={\"width_ratios\":[15,1]})\n",
    "fig.patch.set_alpha(0)\n",
    "\n",
    "thermal_cmap = cmocean.cm.thermal\n",
    "im =ax.imshow(Z, vmin=-10, vmax=70, cmap=thermal_cmap)\n",
    "cbar = plt.colorbar(im, cax=cax, extend='both')\n",
    "cax2 = cax.twinx()\n",
    "# cax2.get_xaxis().set_visible(False)\n",
    "# cax2.get_yaxis().set_visible(False)\n",
    "# cax2.patch.set_visible(False)\n",
    "\n",
    "ylim_F = celcius_to_fahrenheit(cax.get_ylim()[0]), celcius_to_fahrenheit(cax.get_ylim()[1])\n",
    "cax2.set_ylim(ylim_F)\n",
    "temp_ticks_C = np.array([-10, 0, 10, 21, 30, 37,50,  60])\n",
    "temp_ticks_F = celcius_to_fahrenheit(temp_ticks_C)\n",
    "# \n",
    "\n",
    "# ticks=np.arange(0.1,1.1,0.1)\n",
    "# iticks=1./np.array([10,3,2,1.5,1])\n",
    "cbar.set_ticks(ticks=temp_ticks_C)\n",
    "\n",
    "cbar.set_label(r\"Temperature\")\n",
    "cbar.ax.yaxis.set_label_position(\"left\")\n",
    "# cax2.set_ylim(0.1,1)\n",
    "cax2.set_yticks(temp_ticks_F)\n",
    "# cax2.set_yticklabels(1./iticks)\n",
    "# cax2.set_ylabel(r\"Temperature ($\\degree$ F)\")\n",
    "\n",
    "ax.set_visible(False)\n",
    "\n",
    "cax.text(-1, .95, '$\\degree$ C', transform=cax.transAxes, ha='center', c=text_color)\n",
    "cax.text(1.8, .95, '$\\degree$ F', transform=cax.transAxes, ha='center', c=text_color)\n",
    "\n",
    "plt.setp(cax2.spines.values(), visible=False)\n",
    "set_axeslabel_color(cax, text_color)\n",
    "set_axeslabel_color(cax2, text_color)\n",
    "\n",
    "if text_color == 'white':\n",
    "    fig.savefig('dual_thermometer_w.png', bbox_inches='tight', dpi=900)\n",
    "    fig.savefig('dual_thermometer_w.svg', bbox_inches='tight')\n",
    "else:\n",
    "    fig.savefig('dual_thermometer.png', bbox_inches='tight', dpi=900)\n",
    "    fig.savefig('dual_thermometer.svg', bbox_inches='tight')\n",
    "    \n"
   ]
  },
  {
   "cell_type": "code",
   "execution_count": null,
   "metadata": {},
   "outputs": [],
   "source": []
  }
 ],
 "metadata": {
  "kernelspec": {
   "display_name": "Python 3",
   "language": "python",
   "name": "python3"
  },
  "language_info": {
   "codemirror_mode": {
    "name": "ipython",
    "version": 3
   },
   "file_extension": ".py",
   "mimetype": "text/x-python",
   "name": "python",
   "nbconvert_exporter": "python",
   "pygments_lexer": "ipython3",
   "version": "3.7.5"
  }
 },
 "nbformat": 4,
 "nbformat_minor": 4
}
