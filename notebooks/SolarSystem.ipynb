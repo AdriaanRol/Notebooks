{
 "cells": [
  {
   "cell_type": "code",
   "execution_count": 2,
   "metadata": {},
   "outputs": [],
   "source": [
    "import numpy as np \n",
    "import pandas as pd\n",
    "import matplotlib.pyplot as plt\n",
    "import astropy"
   ]
  },
  {
   "cell_type": "code",
   "execution_count": 57,
   "metadata": {},
   "outputs": [],
   "source": [
    "planets = {\n",
    "    'Sun': {'name': 'Sun', 'symbol':'$\\u2609$', 'coords':(0,0), 'color':'gold'},\n",
    "    'Mercury': {'name': 'Mercury', 'symbol':'$\\u263F$', 'coords':(1,0), 'color':'brown'},\n",
    "    'Venus': {'name': 'Venus', 'symbol':'$\\u2640$', 'coords':(2,0), 'color':'green'},\n",
    "    'Earth': {'name': 'Earth', 'symbol':'$\\u2295$', 'coords':(3,0), 'color':'blue'},\n",
    "    'Moon': {'name': 'Moon', 'symbol':'$\\u263D$', 'coords':(3,.5), 'color':'white'},\n",
    "    'Mars': {'name': 'Mars', 'symbol':'$\\u2642$', 'coords':(4,0), 'color':'red'},\n",
    "    'Jupiter': {'name': 'Jupiter', 'symbol':'$\\u2643$', 'coords':(5,0), 'color':'orange'},\n",
    "    'Saturn': {'name': 'Saturn', 'symbol':'$\\u2644$', 'coords':(6,0), 'color':'grey'},\n",
    "    'Uranus': {'name': 'Uranus', 'symbol':'$\\u2645$', 'coords':(7,0), 'color':'blue'},\n",
    "    'Neptune': {'name': 'Neptune', 'symbol':'$\\u2646$', 'coords':(8,0), 'color':'purple'},\n",
    "    'Pluto': {'name': 'Pluto', 'symbol':'$\\u2647$', 'coords':(9,0), 'color':'black'},}\n"
   ]
  },
  {
   "cell_type": "code",
   "execution_count": 70,
   "metadata": {},
   "outputs": [],
   "source": [
    "def plot_circle(ax, r, c=(0,0), **kw):\n",
    "    th = np.linspace(0, 2*np.pi)\n",
    "    x = r*np.cos(th)+c[0]\n",
    "    y = r*np.sin(th)+c[1]\n",
    "    ax.plot(x,y, **kw)"
   ]
  },
  {
   "cell_type": "code",
   "execution_count": 75,
   "metadata": {},
   "outputs": [
    {
     "data": {
      "image/png": "[encoded data removed]",
      "text/plain": [
       "<Figure size 432x288 with 1 Axes>"
      ]
     },
     "metadata": {
      "needs_background": "light"
     },
     "output_type": "display_data"
    }
   ],
   "source": [
    "f, ax = plt.subplots()\n",
    "ax.set_aspect('equal')\n",
    "for p in planets.values():\n",
    "#     plot_circle(ax, r=p['coords'][0], color=p['color'], ls='--', lw='.5')\n",
    "    ax.plot([p['coords'][0]], [p['coords'][1]], marker=p['symbol'], ls='',\n",
    "            label='{} {}'.format(p['symbol'], p['name']), markersize=10,markeredgewidth=0,\n",
    "            c=p['color'])\n",
    "\n",
    "ax.legend(ncol=2, markerscale=1, loc=(1.05, .5))\n",
    "\n",
    "f.patch.set_alpha(0)\n",
    "# ax.patch.set_alpha(0)\n",
    "ax.set_facecolor('xkcd:black')\n",
    "ax.axis('off')\n",
    "\n",
    "ax.set_ylim(-10,10)\n",
    "ax.set_xlim(-10,10)\n",
    "\n",
    "f.savefig('planets.svg', bbox_inches='tight')\n"
   ]
  },
  {
   "cell_type": "code",
   "execution_count": null,
   "metadata": {},
   "outputs": [],
   "source": []
  }
 ],
 "metadata": {
  "kernelspec": {
   "display_name": "Python 3",
   "language": "python",
   "name": "python3"
  },
  "language_info": {
   "codemirror_mode": {
    "name": "ipython",
    "version": 3
   },
   "file_extension": ".py",
   "mimetype": "text/x-python",
   "name": "python",
   "nbconvert_exporter": "python",
   "pygments_lexer": "ipython3",
   "version": "3.7.5"
  }
 },
 "nbformat": 4,
 "nbformat_minor": 4
}
